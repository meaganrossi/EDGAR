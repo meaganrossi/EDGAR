{
 "cells": [
  {
   "cell_type": "code",
   "execution_count": 1,
   "id": "734d1688",
   "metadata": {},
   "outputs": [],
   "source": [
    "# RepRisk\n",
    "# https://www.reprisk.com/lab/jn/esg-score.html\n",
    "    \n",
    "# Risk Metrics\n",
    "# https://www.msci.com/documents/10199/5915b101-4206-4ba0-aee2-3449d5c7e95a)\n",
    "    \n",
    "# BQuant\n",
    "# https://www.bloomberg.com/professional/solution/bquant/"
   ]
  },
  {
   "cell_type": "code",
   "execution_count": null,
   "id": "a0728f31",
   "metadata": {},
   "outputs": [],
   "source": []
  }
 ],
 "metadata": {
  "kernelspec": {
   "display_name": "Python 3",
   "language": "python",
   "name": "python3"
  },
  "language_info": {
   "codemirror_mode": {
    "name": "ipython",
    "version": 3
   },
   "file_extension": ".py",
   "mimetype": "text/x-python",
   "name": "python",
   "nbconvert_exporter": "python",
   "pygments_lexer": "ipython3",
   "version": "3.8.8"
  }
 },
 "nbformat": 4,
 "nbformat_minor": 5
}
